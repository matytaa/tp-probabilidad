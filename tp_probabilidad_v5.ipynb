{
 "cells": [
  {
   "cell_type": "code",
   "execution_count": null,
   "metadata": {},
   "outputs": [],
   "source": [
    "Parte 1: Simulación\n",
    "\n",
    "En esta primera parte, construiremos varios generadores de números aleatorios que usaremos para obtener muestras con distribu-\n",
    "ción conocida sobre las que vamos a trabajar posteriormente.\n",
    "\n",
    "1. Utilizando únicamente la función random de su lenguaje (la función que genera un número aleatorio uniforme entre 0 y 1),\n",
    "implemente una función que genere un número distribuido Bernoulli con probabilidad p.\n",
    "2. Utilizando la función del punto anterior, implemente otra que genere un número binomial con los parámetros n,p.\n",
    "\n",
    "3. Utilizando el procedimiento descrito en el capítulo 6 del Dekking (método de la función inversa o de Monte Carlo), imple-\n",
    "mentar una función que permita generar un número aleatorio con distribución E xp(λ).\n",
    "\n",
    "4. Investigar como generar números aleatorios con distribución normal. Implementarlo.\n",
    "\n",
    "Parte 2: Estadística descriptiva\n",
    "Ahora vamos a aplicar las técnicas vistas en la materia al estudio de algunas muestras de datos.\n",
    "1. Generar tres muestras de números aleatorios Exp(0,5) de tamaño n = 10, n = 30 y n = 200. Para cada una, computar la media\n",
    "y varianza muestral. ¿Qué observa?\n",
    "2. Para las tres muestras anteriores, graficar los histogramas de frecuencias relativas con anchos de banda 0,4, 0,2 y 0,1; es decir,\n",
    "un total de 9 histogramas. ¿Qué conclusiones puede obtener?\n",
    "3. Generar una muestra de números Bin(10, 0,3) de tamaño n = 50. Construir la función de distribución empírica de dicha\n",
    "muestra.\n",
    "\n",
    "4. A partir de la función de distribución empírica del punto anterior, generar una nueva muestra de números aleatorios utili-\n",
    "zando el método de simulación de la primera parte. Computar la media y varianza muestral y graficar el histograma.\n",
    "\n",
    "5. Repetir el experimento de los dos puntos anteriores con dos muestras aleatorias más generadas con los mismos parámetros.\n",
    "¿Qué conclusión saca?\n",
    "Parte 3: Convergencia\n",
    "El propósito de esta sección es ver en forma práctica los resultados de los teoremas de convergencia.\n",
    "1. Generar cuatro muestras de números aleatorios de tamaño 100, todas con distribución binomial con p = 0,40 y n = 10, n = 20,\n",
    "n = 50 y n = 100 respectivamente. Graficar sus histogramas. ¿Qué observa?\n",
    "2. Elija la muestra de tamaño 200 y calcule la media y desviación estándar muestral. Luego, normalice cada dato de la muestra\n",
    "y grafique el histograma de la muestra normalizada. Justifique lo que observa.\n",
    "3. Para cada una de las muestras anteriores, calcule la media muestral. Justifique lo que observa.\n",
    "\n",
    "Parte 4: Estadística inferencial\n",
    "Para terminar, vamos a hacer inferencia con las muestras que generamos y obtener así información sobre sus distribuciones.\n",
    "1. Generar dos muestras N(100, 5), una de tamaño n = 10 y otra de tamaño n = 30. Obtener estimaciones puntuales de su media\n",
    "y varianza.\n",
    "2. Suponga que ya conoce el dato de que la distribución tiene varianza 5. Obtener intervalos de confianza del 95% y 98% para\n",
    "la media de ambas muestras.\n",
    "3. Repita el punto anterior pero usando la varianza estimada s\n",
    "2\n",
    ", para la muestra de tamaño adecuado.\n",
    "4. Probar a nivel 0,99 la hipótesis de que la varianza sea σ\n",
    "2 > 5. Calcular la probabilidad de cometer error tipo II para la hipótesis\n",
    "alternativa σ\n",
    "2 = 6.\n",
    "5. Agrupando los datos en subgrupos de longitud 0,5, probar a nivel 0,99 la hipótesis de que la muestra proviene de una distribución normal."
   ]
  },
  {
   "cell_type": "code",
   "execution_count": 3,
   "metadata": {},
   "outputs": [],
   "source": [
    "#Imports que voy a necesitar\n",
    "\n",
    "import numpy as np # importando numpy\n",
    "from scipy import stats # importando scipy.stats\n",
    "import pandas as pd # importando pandas\n",
    "import matplotlib.pyplot as plt # importando matplotlib\n",
    "import seaborn as sns # importando seaborn\n",
    "# importanto la api de statsmodels\n",
    "import statsmodels.formula.api as smf\n",
    "import statsmodels.api as sm\n",
    "import math\n",
    "import collections \n",
    "from statsmodels.distributions.empirical_distribution import ECDF"
   ]
  },
  {
   "cell_type": "code",
   "execution_count": 2,
   "metadata": {},
   "outputs": [],
   "source": [
    "# Bibliografia\n",
    "# https://relopezbriega.github.io/blog/2016/06/29/distribuciones-de-probabilidad-con-python\n",
    "# https://relopezbriega.github.io/blog/2015/06/27/probabilidad-y-estadistica-con-python/\n",
    "# Fn Binomial: https://www.aglarick.com/2020/02/15/generacion-de-la-distribucion-binomial-en-python-con-jupyter-y-matplotlib/\n",
    "# Fn Normal: https://stackoverrun.com/es/q/3329235"
   ]
  },
  {
   "cell_type": "markdown",
   "metadata": {},
   "source": [
    "# Parte 1: Simulación"
   ]
  },
  {
   "cell_type": "markdown",
   "metadata": {},
   "source": [
    "# Ejercicio 1"
   ]
  },
  {
   "cell_type": "code",
   "execution_count": 3,
   "metadata": {},
   "outputs": [],
   "source": [
    "# En esta primera parte, construiremos varios generadores de números aleatorios que usaremos para obtener muestras con distribu-\n",
    "# ción conocida sobre las que vamos a trabajar posteriormente.\n",
    "\n",
    "# 1. Utilizando únicamente la función random de su lenguaje (la función que genera un número aleatorio uniforme entre 0 y 1),\n",
    "# implemente una función que genere un número distribuido Bernoulli con probabilidad p."
   ]
  },
  {
   "cell_type": "code",
   "execution_count": 4,
   "metadata": {},
   "outputs": [],
   "source": [
    "#Fijo la semilla del random para que siempre sean los mismos datos \n",
    "np.random.seed(1)"
   ]
  },
  {
   "cell_type": "code",
   "execution_count": 5,
   "metadata": {},
   "outputs": [],
   "source": [
    "# np.random.uniform(0,1) \"la función que genera un número aleatorio uniforme entre 0 y 1\"\n",
    "# De esta forma, devuelve valores equiprobables entre 0 y 1\n",
    "# Los valores, los voy a generar de esta forma valor = np.random.uniform(0,1) y dps, comparo con el valor de p (prob)\n",
    "\n",
    "def fn_bernoulli_random(p):\n",
    "        if np.random.uniform(0,1) > p:\n",
    "            return 0\n",
    "        else:\n",
    "            return 1"
   ]
  },
  {
   "cell_type": "code",
   "execution_count": 6,
   "metadata": {},
   "outputs": [],
   "source": [
    "# implemente una función que genere un array de valores distribuido Bernoulli con probabilidad p.\n",
    "def fn_bernoulli_array(x,p):\n",
    "    valores = np.zeros((x))\n",
    "    for i in range(0,x):\n",
    "        valores[i-1] = fn_bernoulli_random(p)\n",
    "    return valores\n",
    "        "
   ]
  },
  {
   "cell_type": "code",
   "execution_count": 7,
   "metadata": {
    "scrolled": false
   },
   "outputs": [
    {
     "name": "stdout",
     "output_type": "stream",
     "text": [
      "[0. 1. 1. 1. 1. 1. 1. 1. 0. 0. 0. 1. 0. 1. 0. 0. 0. 1. 1. 0. 0. 1. 0. 0.\n",
      " 0. 1. 1. 1. 0. 1. 0. 0. 0. 0. 1. 0. 0. 1. 0. 0. 0. 1. 0. 1. 0. 0. 1. 1.\n",
      " 1. 1. 0. 1. 1. 0. 1. 0. 1. 0. 0. 1. 0. 0. 0. 1. 0. 0. 0. 0. 0. 0. 1. 1.\n",
      " 0. 1. 1. 0. 1. 0. 0. 0. 0. 0. 1. 1. 0. 0. 0. 0. 0. 1. 0. 0. 0. 0. 1. 0.\n",
      " 0. 1. 0. 0.]\n"
     ]
    },
    {
     "data": {
      "text/plain": [
       "Counter({0.0: 60, 1.0: 40})"
      ]
     },
     "execution_count": 7,
     "metadata": {},
     "output_type": "execute_result"
    }
   ],
   "source": [
    "val = fn_bernoulli_array(100,0.4)\n",
    "print(val)\n",
    "collections.Counter(val) "
   ]
  },
  {
   "cell_type": "code",
   "execution_count": 8,
   "metadata": {},
   "outputs": [
    {
     "ename": "NameError",
     "evalue": "name 'p' is not defined",
     "output_type": "error",
     "traceback": [
      "\u001b[1;31m---------------------------------------------------------------------------\u001b[0m",
      "\u001b[1;31mNameError\u001b[0m                                 Traceback (most recent call last)",
      "\u001b[1;32m<ipython-input-8-793635c6ffb6>\u001b[0m in \u001b[0;36m<module>\u001b[1;34m\u001b[0m\n\u001b[0;32m      5\u001b[0m \u001b[1;31m# 1−p es la probabilidad de fracaso\u001b[0m\u001b[1;33m\u001b[0m\u001b[1;33m\u001b[0m\u001b[1;33m\u001b[0m\u001b[0m\n\u001b[0;32m      6\u001b[0m \u001b[1;33m\u001b[0m\u001b[0m\n\u001b[1;32m----> 7\u001b[1;33m \u001b[0mbernoulli\u001b[0m \u001b[1;33m=\u001b[0m \u001b[0mstats\u001b[0m\u001b[1;33m.\u001b[0m\u001b[0mbernoulli\u001b[0m\u001b[1;33m(\u001b[0m\u001b[0mp\u001b[0m\u001b[1;33m)\u001b[0m\u001b[1;33m\u001b[0m\u001b[1;33m\u001b[0m\u001b[0m\n\u001b[0m\u001b[0;32m      8\u001b[0m \u001b[1;33m\u001b[0m\u001b[0m\n\u001b[0;32m      9\u001b[0m \u001b[1;31m# Función de Masa de Probabilidad\u001b[0m\u001b[1;33m\u001b[0m\u001b[1;33m\u001b[0m\u001b[1;33m\u001b[0m\u001b[0m\n",
      "\u001b[1;31mNameError\u001b[0m: name 'p' is not defined"
     ]
    }
   ],
   "source": [
    "# La Distribución de Bernoulli describe un experimento probabilístico en donde el ensayo \n",
    "# tiene dos posibles resultados, éxito o fracaso.\n",
    "\n",
    "# p   es la probabilidad de éxito\n",
    "# 1−p es la probabilidad de fracaso\n",
    "\n",
    "bernoulli = stats.bernoulli(p)\n",
    "\n",
    "# Función de Masa de Probabilidad\n",
    "fmp = bernoulli.pmf(x) \n",
    "\n",
    "# Graficando Bernoulli\n",
    "fig, ax = plt.subplots()\n",
    "ax.plot(x, fmp, 'bo')\n",
    "ax.vlines(x, 0, fmp, colors='b', lw=5, alpha=0.5)\n",
    "ax.set_yticks([0., 0.2, 0.4, 0.6])\n",
    "\n",
    "plt.title('Distribución Bernoulli')\n",
    "plt.ylabel('probabilidad')\n",
    "plt.xlabel('valores')\n",
    "plt.show()\n"
   ]
  },
  {
   "cell_type": "markdown",
   "metadata": {},
   "source": [
    "# Ejercicio 2"
   ]
  },
  {
   "cell_type": "markdown",
   "metadata": {},
   "source": [
    "2. Utilizando la función del punto anterior, implemente otra que genere un número binomial con los parámetros n,p."
   ]
  },
  {
   "cell_type": "code",
   "execution_count": 29,
   "metadata": {},
   "outputs": [],
   "source": [
    "def fn_binomial_random(n,p):\n",
    "    intentos=[np.random.uniform(0,1) for x in range(0,n)]\n",
    "    exitos=[intento<=p for intento in intentos]\n",
    "    return sum(exitos)"
   ]
  },
  {
   "cell_type": "code",
   "execution_count": 30,
   "metadata": {},
   "outputs": [
    {
     "name": "stdout",
     "output_type": "stream",
     "text": [
      "20\n"
     ]
    }
   ],
   "source": [
    "val = fn_binomial_random(50,0.4)\n",
    "print(val)\n"
   ]
  },
  {
   "cell_type": "code",
   "execution_count": 31,
   "metadata": {},
   "outputs": [],
   "source": [
    "# Implemento funcion para retornar un conjunto de valores aleatorios siguiendo la distribucion binomial\n",
    "def fn_binomial_array(casos,n,p):\n",
    "    valores = np.zeros(casos)\n",
    "    for i in range(0,casos):\n",
    "        valores[i-1] = fn_binomial_random(n,p)\n",
    "    return valores\n",
    "        "
   ]
  },
  {
   "cell_type": "code",
   "execution_count": 32,
   "metadata": {
    "scrolled": true
   },
   "outputs": [
    {
     "name": "stdout",
     "output_type": "stream",
     "text": [
      "[4. 3. 2. 6. 4. 4. 3. 2. 1. 4. 4. 3. 2. 2. 3. 3. 5. 3. 4. 1. 3. 3. 3. 5.\n",
      " 3. 3. 3. 2. 1. 3. 3. 3. 6. 3. 2. 4. 4. 1. 3. 4. 5. 4. 3. 2. 2. 3. 0. 2.\n",
      " 4. 4. 4. 4. 3. 2. 2. 1. 3. 3. 3. 3. 4. 1. 5. 3. 3. 3. 2. 3. 4. 3. 5. 2.\n",
      " 4. 4. 2. 2. 3. 1. 5. 4. 3. 5. 2. 3. 3. 1. 4. 4. 4. 4. 4. 5. 4. 2. 3. 4.\n",
      " 4. 2. 2. 3. 4. 2. 5. 3. 2. 5. 3. 2. 2. 2. 3. 3. 1. 3. 3. 2. 3. 0. 4. 5.\n",
      " 2. 4. 1. 4. 1. 4. 4. 3. 4. 2. 2. 3. 2. 2. 3. 4. 3. 4. 4. 4. 2. 5. 4. 2.\n",
      " 3. 5. 3. 3. 1. 3. 2. 5. 1. 3. 3. 3. 2. 1. 3. 1. 2. 3. 3. 4. 4. 2. 2. 3.\n",
      " 2. 4. 5. 1. 4. 2. 5. 3. 2. 6. 4. 4. 1. 5. 2. 4. 4. 4. 2. 5. 3. 4. 3. 1.\n",
      " 1. 2. 2. 2. 5. 1. 3. 3. 2. 4. 3. 1. 3. 2. 3. 1. 4. 3. 2. 2. 1. 5. 2. 2.\n",
      " 2. 4. 3. 2. 3. 2. 4. 2. 1. 4. 4. 4. 2. 3. 1. 1. 2. 2. 4. 2. 3. 2. 3. 1.\n",
      " 2. 2. 4. 3. 3. 3. 2. 2. 3. 4. 2. 4. 4. 2. 2. 4. 3. 2. 3. 3. 0. 4. 4. 3.\n",
      " 4. 2. 2. 3. 4. 2. 1. 3. 3. 4. 3. 3. 5. 5. 5. 4. 4. 3. 4. 2. 3. 3. 3. 2.\n",
      " 2. 5. 4. 3. 3. 5. 3. 4. 2. 3. 5. 3. 3. 2. 4. 2. 3. 2. 5. 3. 5. 2. 2. 3.\n",
      " 1. 0. 2. 2. 2. 2. 4. 3. 4. 3. 2. 1. 1. 5. 2. 3. 5. 5. 4. 2. 5. 3. 2. 4.\n",
      " 5. 4. 3. 4. 4. 2. 3. 3. 2. 4. 4. 5. 4. 2. 3. 5. 4. 1. 4. 2. 2. 4. 5. 2.\n",
      " 4. 5. 5. 3. 4. 3. 5. 2. 4. 1. 1. 3. 5. 2. 4. 2. 3. 2. 3. 5. 3. 3. 2. 2.\n",
      " 2. 4. 3. 3. 4. 4. 0. 3. 3. 3. 4. 4. 4. 3. 3. 4. 3. 4. 3. 3. 3. 4. 2. 2.\n",
      " 3. 2. 2. 4. 2. 2. 3. 4. 4. 3. 4. 1. 4. 4. 2. 4. 2. 4. 3. 1. 2. 5. 5. 3.\n",
      " 3. 2. 2. 1. 4. 2. 4. 2. 4. 3. 3. 1. 4. 2. 3. 4. 3. 4. 3. 3. 2. 2. 2. 3.\n",
      " 2. 4. 3. 4. 2. 2. 4. 2. 5. 2. 5. 4. 4. 4. 2. 5. 3. 2. 2. 1. 2. 1. 2. 5.\n",
      " 3. 1. 3. 4. 1. 5. 3. 3. 2. 4. 1. 0. 1. 3. 5. 4. 4. 2. 3. 2. 2. 2. 4. 4.\n",
      " 5. 5. 3. 3. 3. 2. 5. 2. 3. 3. 4. 2. 3. 2. 6. 2. 3. 4. 3. 4. 2. 4. 4. 3.\n",
      " 3. 4. 4. 2. 2. 4. 3. 5. 6. 2. 2. 3. 4. 1. 4. 3. 5. 2. 2. 5. 2. 4. 3. 4.\n",
      " 5. 2. 3. 4. 0. 4. 3. 4. 3. 4. 2. 2. 2. 3. 1. 4. 3. 2. 3. 3. 1. 0. 1. 4.\n",
      " 2. 4. 4. 1. 1. 1. 1. 2. 2. 5. 1. 3. 3. 2. 3. 2. 5. 3. 3. 5. 2. 4. 2. 3.\n",
      " 3. 3. 1. 5. 3. 2. 5. 1. 4. 5. 2. 4. 3. 1. 4. 1. 5. 2. 3. 6. 3. 3. 5. 3.\n",
      " 2. 2. 5. 1. 4. 1. 4. 3. 4. 3. 5. 4. 2. 1. 6. 1. 4. 3. 2. 4. 1. 1. 3. 3.\n",
      " 5. 3. 3. 4. 1. 5. 4. 5. 4. 6. 2. 2. 4. 3. 2. 3. 3. 2. 4. 4. 1. 6. 4. 4.\n",
      " 3. 6. 3. 5. 4. 5. 2. 4. 3. 2. 5. 2. 3. 6. 3. 4. 3. 3. 2. 2. 3. 3. 4. 4.\n",
      " 2. 2. 2. 4. 3. 4. 2. 3. 5. 3. 2. 3. 3. 3. 4. 4. 3. 1. 2. 2. 1. 2. 4. 2.\n",
      " 2. 6. 1. 6. 2. 2. 2. 1. 3. 1. 1. 2. 4. 4. 4. 3. 2. 3. 2. 3. 3. 4. 3. 3.\n",
      " 1. 4. 4. 5. 3. 3. 3. 3. 3. 3. 3. 3. 2. 4. 3. 2. 2. 3. 2. 2. 2. 2. 2. 3.\n",
      " 3. 5. 2. 2. 2. 4. 3. 4. 3. 4. 3. 3. 2. 3. 5. 1. 2. 3. 1. 0. 3. 3. 5. 2.\n",
      " 1. 2. 3. 4. 2. 2. 2. 3. 5. 2. 4. 4. 3. 3. 4. 2. 2. 2. 4. 3. 5. 4. 4. 0.\n",
      " 3. 2. 4. 4. 2. 1. 2. 3. 4. 3. 2. 4. 4. 2. 3. 3. 2. 3. 3. 2. 2. 3. 5. 2.\n",
      " 3. 3. 2. 1. 0. 3. 1. 4. 1. 6. 2. 4. 3. 3. 0. 4. 3. 2. 5. 4. 4. 4. 2. 1.\n",
      " 2. 4. 1. 3. 2. 4. 3. 2. 1. 3. 2. 3. 1. 3. 4. 3. 3. 1. 3. 4. 4. 2. 3. 3.\n",
      " 3. 2. 3. 3. 1. 2. 1. 3. 4. 3. 2. 3. 4. 3. 2. 4. 4. 2. 3. 3. 3. 2. 1. 3.\n",
      " 3. 4. 1. 3. 5. 1. 1. 2. 4. 4. 3. 3. 5. 3. 2. 2. 3. 2. 3. 1. 3. 1. 2. 3.\n",
      " 4. 3. 2. 2. 4. 2. 0. 3. 4. 5. 4. 2. 2. 1. 2. 3. 1. 3. 4. 4. 4. 2. 3. 4.\n",
      " 2. 2. 2. 4. 4. 2. 1. 3. 1. 3. 4. 3. 3. 4. 5. 2. 2. 4. 3. 5. 4. 3. 4. 5.\n",
      " 4. 4. 1. 4. 2. 3. 2. 5. 1. 3. 3. 2. 2. 2. 4. 1.]\n"
     ]
    },
    {
     "data": {
      "text/plain": [
       "Counter({4.0: 232, 3.0: 295, 2.0: 259, 6.0: 14, 1.0: 99, 5.0: 88, 0.0: 13})"
      ]
     },
     "execution_count": 32,
     "metadata": {},
     "output_type": "execute_result"
    }
   ],
   "source": [
    "val = fn_binomial_array(1000,6,0.5)\n",
    "print(val)\n",
    "collections.Counter(val) "
   ]
  },
  {
   "cell_type": "code",
   "execution_count": 33,
   "metadata": {},
   "outputs": [
    {
     "data": {
      "image/png": "[encoded data removed]",
      "text/plain": [
       "<Figure size 432x288 with 1 Axes>"
      ]
     },
     "metadata": {
      "needs_background": "light"
     },
     "output_type": "display_data"
    }
   ],
   "source": [
    "def graficaBinomial(puntostotales, n, p):\n",
    "    Xs=[k/n    for k in range(0,n+1)]\n",
    "    Ys=[0    for i in range(0,n+1)]\n",
    "    puntoactual=0\n",
    "    while puntoactual<puntostotales:\n",
    "        ubicacion=fn_binomial_random(n, p)\n",
    "        Ys[ubicacion]+=1\n",
    "        puntoactual+=1\n",
    "    return Xs, Ys\n",
    "\n",
    "ns=[6]\n",
    "p=0.5\n",
    "puntos=1000\n",
    "for n in ns:\n",
    "    curva=graficaBinomial(puntos, n, p)\n",
    "    plt.plot(*curva, label=f'n = {n}')\n",
    "plt.xlabel('Probabilidad ')\n",
    "plt.ylabel('')\n",
    "plt.legend()\n",
    "plt.show()"
   ]
  },
  {
   "cell_type": "markdown",
   "metadata": {},
   "source": [
    "# Ejercicio 3"
   ]
  },
  {
   "cell_type": "code",
   "execution_count": null,
   "metadata": {},
   "outputs": [],
   "source": [
    "Utilizando el procedimiento descrito en el capítulo 6 del Dekking (método de la función inversa o de Monte Carlo), imple-\n",
    "mentar una función que permita generar un número aleatorio con distribución Exp(λ)."
   ]
  },
  {
   "cell_type": "markdown",
   "metadata": {},
   "source": [
    "Metodo de funcion inversa: pagina 74 del Dekkings"
   ]
  },
  {
   "attachments": {
    "image.png": {
     "image/png": "[encoded data removed]"
    }
   },
   "cell_type": "markdown",
   "metadata": {},
   "source": [
    "![image.png](attachment:image.png)"
   ]
  },
  {
   "cell_type": "code",
   "execution_count": 15,
   "metadata": {},
   "outputs": [],
   "source": [
    "def fn_inversa_exponencial(_lambda, u):\n",
    "    return -(1/_lambda)* math.log10(u) \n"
   ]
  },
  {
   "cell_type": "code",
   "execution_count": 16,
   "metadata": {},
   "outputs": [],
   "source": [
    "def fn_exponencial_random(_lambda):\n",
    "    numeroRandomConDistribucionUniforme = np.random.uniform(0,1)\n",
    "    result = fn_inversa_exponencial(_lambda, numeroRandomConDistribucionUniforme)\n",
    "    return result"
   ]
  },
  {
   "cell_type": "code",
   "execution_count": 17,
   "metadata": {},
   "outputs": [
    {
     "name": "stdout",
     "output_type": "stream",
     "text": [
      "0.8940074835191912\n"
     ]
    }
   ],
   "source": [
    "val = fn_exponencial_random(0.5)\n",
    "print(val)\n"
   ]
  },
  {
   "cell_type": "markdown",
   "metadata": {},
   "source": [
    "# Ejercicio 4"
   ]
  },
  {
   "cell_type": "code",
   "execution_count": null,
   "metadata": {},
   "outputs": [],
   "source": [
    "Investigar como generar números aleatorios con distribución normal. Implementarlo."
   ]
  },
  {
   "cell_type": "markdown",
   "metadata": {},
   "source": [
    "Usamos el método de Box-muller para generar numeros random siguiendo una distribucion normal \n",
    "https://es.wikipedia.org/wiki/M%C3%A9todo_de_Box-Muller"
   ]
  },
  {
   "cell_type": "code",
   "execution_count": 18,
   "metadata": {},
   "outputs": [],
   "source": [
    "def fn_gaussian_random(mean, stddev): \n",
    "    theta = 2 * math.pi * np.random.uniform(0,1) \n",
    "    rho = math.sqrt(-2 * math.log10(1 - np.random.uniform(0,1))) \n",
    "    scale = stddev * rho \n",
    "    x = mean + scale * math.cos(theta) \n",
    "    y = mean + scale * math.sin(theta) \n",
    "    return y\n"
   ]
  },
  {
   "cell_type": "code",
   "execution_count": 19,
   "metadata": {},
   "outputs": [
    {
     "name": "stdout",
     "output_type": "stream",
     "text": [
      "0.4981848370580326\n"
     ]
    }
   ],
   "source": [
    "val = fn_gaussian_random(2, 3)\n",
    "print(val)"
   ]
  },
  {
   "cell_type": "code",
   "execution_count": 89,
   "metadata": {},
   "outputs": [],
   "source": [
    "def fn_normal_array(casos,mean,stddev):\n",
    "    valores = np.zeros(casos)\n",
    "    for i in range(0,casos):\n",
    "        valores[i-1] = fn_gaussian_random(mean, stddev)\n",
    "    return valores"
   ]
  },
  {
   "cell_type": "code",
   "execution_count": 90,
   "metadata": {},
   "outputs": [
    {
     "name": "stdout",
     "output_type": "stream",
     "text": [
      "[ 95.30038885 104.03212209  93.04336876 100.12974212 101.59796353\n",
      "  99.91583918  91.74537263  98.53641177  98.82564888 100.60706835]\n"
     ]
    }
   ],
   "source": [
    "val = fn_normal_array(10,100, 5)\n",
    "print(val)"
   ]
  },
  {
   "cell_type": "markdown",
   "metadata": {},
   "source": [
    "# Parte 2: Estadística descriptiva"
   ]
  },
  {
   "cell_type": "code",
   "execution_count": null,
   "metadata": {},
   "outputs": [],
   "source": [
    "Ahora vamos a aplicar las técnicas vistas en la materia al estudio de algunas muestras de datos."
   ]
  },
  {
   "cell_type": "markdown",
   "metadata": {},
   "source": [
    "# Ejercicio 1"
   ]
  },
  {
   "cell_type": "code",
   "execution_count": null,
   "metadata": {},
   "outputs": [],
   "source": [
    "Generar tres muestras de números aleatorios Exp(0,5) de tamaño n = 10, n = 30 y n = 200. Para cada una, computar la media\n",
    "y varianza muestral. ¿Qué observa?"
   ]
  },
  {
   "cell_type": "code",
   "execution_count": 20,
   "metadata": {},
   "outputs": [],
   "source": [
    "def fn_generador_de_muestras_numeros_random_con_dist_exponencial(n,_lambda):\n",
    "    valores = np.zeros(n)\n",
    "    for i in range(0,n):\n",
    "        valores[i-1] = fn_exponencial_random(_lambda)\n",
    "    \n",
    "    #Calculo de esperanza\n",
    "    suma = 0\n",
    "    for i in range(0,10):\n",
    "        suma = suma + valores[i]\n",
    "\n",
    "    esperanza = suma/10\n",
    "\n",
    "    #Calculo de varianza\n",
    "    suma = 0\n",
    "    for i in range(0,10):\n",
    "        suma = suma + math.pow(valores[i], 2)\n",
    "\n",
    "    varianza = suma/10 - math.pow(esperanza, 2)\n",
    "\n",
    "    return valores, esperanza, varianza"
   ]
  },
  {
   "cell_type": "markdown",
   "metadata": {},
   "source": [
    "Primera muestra con n=10: "
   ]
  },
  {
   "cell_type": "code",
   "execution_count": 21,
   "metadata": {},
   "outputs": [
    {
     "name": "stdout",
     "output_type": "stream",
     "text": [
      "[6.35598669e-02 3.21173490e-01 2.32846076e-03 1.52722526e+00\n",
      " 1.72569863e+00 6.06134033e-02 3.13761077e-01 2.36090986e+00\n",
      " 2.43573542e-01 3.60151881e+00]\n",
      "Media= 1.0220362393146807\n",
      "Varianza= 1.3678350833277242\n"
     ]
    }
   ],
   "source": [
    "val_n10, esperanza, varianza = fn_generador_de_muestras_numeros_random_con_dist_exponencial(10,0.5)\n",
    "print(val_n10)\n",
    "collections.Counter(val_n10) \n",
    "print(\"Media=\", esperanza)\n",
    "print(\"Varianza=\", varianza)"
   ]
  },
  {
   "cell_type": "markdown",
   "metadata": {},
   "source": [
    "Segunda muestra con n=30: "
   ]
  },
  {
   "cell_type": "code",
   "execution_count": 22,
   "metadata": {},
   "outputs": [
    {
     "name": "stdout",
     "output_type": "stream",
     "text": [
      "[0.06957351 0.29561997 1.81126068 3.40316139 3.16303325 3.09622802\n",
      " 1.21738486 0.13097487 0.53709475 0.5148294  0.14934395 1.81194345\n",
      " 1.10821995 0.46456166 0.0268186  0.50202749 3.45876858 0.19313338\n",
      " 1.26538407 0.18613971 0.82264857 0.12743322 0.25321737 0.5094752\n",
      " 1.73001966 2.44488988 1.83196728 2.70226796 1.93723051 0.24539995]\n",
      "Media= 1.423916069637373\n",
      "Varianza= 1.6323142320250112\n"
     ]
    }
   ],
   "source": [
    "val_n30, esperanza, varianza = fn_generador_de_muestras_numeros_random_con_dist_exponencial(30,0.5)\n",
    "print(val_n30)\n",
    "collections.Counter(val_n30) \n",
    "print(\"Media=\", esperanza)\n",
    "print(\"Varianza=\", varianza)"
   ]
  },
  {
   "cell_type": "code",
   "execution_count": 25,
   "metadata": {},
   "outputs": [
    {
     "name": "stdout",
     "output_type": "stream",
     "text": [
      "[0.29383436 0.50406303 3.80229876 2.28564535 0.02889888 0.49114972\n",
      " 1.38375415 1.19607687 0.25705746 1.41801984 0.47111131 0.02643863\n",
      " 0.14440876 1.24012867 0.6129511  0.41527866 0.16291095 1.60935555\n",
      " 3.46208614 2.30952919 0.62611089 0.43458266 0.49000228 0.99688903\n",
      " 0.00994459 0.47352565 0.84011018 0.51777843 0.25529763 0.34884544\n",
      " 1.15377196 2.3565167  0.86339892 0.40170847 1.35484198 0.24669206\n",
      " 2.35388034 1.16900128 0.1886731  1.42693311 0.38837204 0.56022702\n",
      " 0.06789687 1.15910894 2.36142434 0.26734737 0.22456512 0.08400448\n",
      " 0.06119421 3.71075365 1.26022529 0.41974175 0.04545264 0.04439178\n",
      " 0.5088306  0.07658241 0.38551704 0.81785361 0.62674414 0.43747974\n",
      " 0.51998886 0.06660786 0.07362096 0.80707937 0.03251067 1.51912284\n",
      " 1.79699031 1.73882331 0.59227908 3.33412154 0.04641062 0.16486771\n",
      " 3.64671908 1.50800665 0.95755752 1.76547833 0.18357628 0.92502508\n",
      " 0.05364498 0.47013287 0.11218829 0.14655959 0.08632639 0.67471045\n",
      " 0.52506317 0.19533748 1.08812221 0.61915855 0.44498642 3.61747391\n",
      " 0.45318576 0.72566852 0.18586497 1.00270413 0.09840534 0.47635892\n",
      " 1.4703162  0.20702557 0.42645291 2.53667306 0.75310097 0.3361724\n",
      " 0.07374544 6.79149411 0.02042502 0.84828477 0.02307514 0.43689694\n",
      " 0.16305251 0.48110022 0.40397533 1.08855573 0.46297044 0.24985227\n",
      " 0.13270777 0.24401155 0.31221792 0.12649067 0.98245322 0.34682841\n",
      " 0.69188974 0.83563967 0.77271513 0.79267307 0.99683009 0.41253184\n",
      " 0.73256375 0.02305861 0.33779573 1.40417322 0.73975266 0.92853541\n",
      " 0.19638745 0.11103634 0.08781501 0.35734009 1.13660275 1.1959359\n",
      " 0.13617146 0.5552017  0.19147682 0.48446644 0.26962318 0.56964583\n",
      " 0.22602204 0.48999227 0.6637691  0.9301999  2.3323122  0.84519064\n",
      " 2.19788935 0.01505458 1.48170685 0.1810391  0.11602197 0.32430156\n",
      " 0.48902106 1.58650236 0.66158942 0.92392875 1.29548072 0.45460589\n",
      " 1.01093992 0.07591936 0.08226517 1.17973405 1.91020504 1.42905312\n",
      " 0.60278266 0.27503875 1.36306175 1.21097911 0.13945539 0.76212927\n",
      " 0.41987314 1.26280843 1.98307851 0.57494132 0.64270655 1.63248324\n",
      " 0.41268986 0.52878604 0.36866211 1.67999061 0.24810988 1.30710181\n",
      " 0.56907668 0.2099332  3.30220591 0.97793883 0.11804875 0.14658513\n",
      " 0.53772441 0.12435434 0.04473019 0.16561203 0.13696685 2.01098383\n",
      " 0.37243207 1.29290094]\n",
      "Media= 1.1660798419460074\n",
      "Varianza= 1.2088944117904028\n"
     ]
    }
   ],
   "source": [
    "val_n200, esperanza, varianza = fn_generador_de_muestras_numeros_random_con_dist_exponencial(200,0.5)\n",
    "print(val_n200)\n",
    "collections.Counter(val_n200) \n",
    "print(\"Media=\", esperanza)\n",
    "print(\"Varianza=\", varianza)"
   ]
  },
  {
   "cell_type": "markdown",
   "metadata": {},
   "source": [
    "# Ejercicio 2"
   ]
  },
  {
   "cell_type": "code",
   "execution_count": 23,
   "metadata": {},
   "outputs": [
    {
     "ename": "SyntaxError",
     "evalue": "invalid syntax (<ipython-input-23-bc7f55201a54>, line 1)",
     "output_type": "error",
     "traceback": [
      "\u001b[1;36m  File \u001b[1;32m\"<ipython-input-23-bc7f55201a54>\"\u001b[1;36m, line \u001b[1;32m1\u001b[0m\n\u001b[1;33m    Para las tres muestras anteriores, graficar los histogramas de frecuencias relativas con anchos de banda 0,4, 0,2 y 0,1; es decir,\u001b[0m\n\u001b[1;37m         ^\u001b[0m\n\u001b[1;31mSyntaxError\u001b[0m\u001b[1;31m:\u001b[0m invalid syntax\n"
     ]
    }
   ],
   "source": [
    "Para las tres muestras anteriores, graficar los histogramas de frecuencias relativas con anchos de banda 0,4, 0,2 y 0,1; es decir,\n",
    "un total de 9 histogramas. ¿Qué conclusiones puede obtener?"
   ]
  },
  {
   "cell_type": "code",
   "execution_count": 26,
   "metadata": {},
   "outputs": [
    {
     "name": "stdout",
     "output_type": "stream",
     "text": [
      "Inicio= 0\n",
      "Fin= 3\n"
     ]
    },
    {
     "data": {
      "image/png": "[encoded data removed]",
      "text/plain": [
       "<Figure size 432x288 with 1 Axes>"
      ]
     },
     "metadata": {
      "needs_background": "light"
     },
     "output_type": "display_data"
    },
    {
     "data": {
      "image/png": "[encoded data removed]",
      "text/plain": [
       "<Figure size 432x288 with 1 Axes>"
      ]
     },
     "metadata": {
      "needs_background": "light"
     },
     "output_type": "display_data"
    },
    {
     "data": {
      "image/png": "[encoded data removed]",
      "text/plain": [
       "<Figure size 432x288 with 1 Axes>"
      ]
     },
     "metadata": {
      "needs_background": "light"
     },
     "output_type": "display_data"
    }
   ],
   "source": [
    "inicio = int(min(val_n10))\n",
    "fin = int(max(val_n10))\n",
    "print(\"Inicio=\", inicio)\n",
    "print(\"Fin=\", fin)\n",
    "ancho = 0.4\n",
    "div = np.linspace(inicio,fin,round(1+(fin-inicio)/ancho))\n",
    "plt.hist(val_n10,div)\n",
    "plt.grid()\n",
    "plt.show()\n",
    "ancho = 0.2\n",
    "div = np.linspace(inicio,fin,round(1+(fin-inicio)/ancho))\n",
    "plt.hist(val_n10,div)\n",
    "plt.grid()\n",
    "plt.show()\n",
    "ancho = 0.1\n",
    "div = np.linspace(inicio,fin,round(1+(fin-inicio)/ancho))\n",
    "plt.hist(val_n10,div)\n",
    "plt.grid()\n",
    "plt.show()\n"
   ]
  },
  {
   "cell_type": "code",
   "execution_count": 80,
   "metadata": {},
   "outputs": [
    {
     "name": "stdout",
     "output_type": "stream",
     "text": [
      "Inicio= 0\n",
      "Fin= 3\n"
     ]
    },
    {
     "data": {
      "image/png": "[encoded data removed]",
      "text/plain": [
       "<Figure size 432x288 with 1 Axes>"
      ]
     },
     "metadata": {
      "needs_background": "light"
     },
     "output_type": "display_data"
    },
    {
     "data": {
      "image/png": "[encoded data removed]",
      "text/plain": [
       "<Figure size 432x288 with 1 Axes>"
      ]
     },
     "metadata": {
      "needs_background": "light"
     },
     "output_type": "display_data"
    },
    {
     "data": {
      "image/png": "[encoded data removed]",
      "text/plain": [
       "<Figure size 432x288 with 1 Axes>"
      ]
     },
     "metadata": {
      "needs_background": "light"
     },
     "output_type": "display_data"
    }
   ],
   "source": [
    "inicio = int(min(val_n30))\n",
    "fin = int(max(val_n30))\n",
    "ancho = 0.4\n",
    "print(\"Inicio=\", inicio)\n",
    "print(\"Fin=\", fin)\n",
    "div = np.linspace(inicio,fin,round(1+(fin-inicio)/ancho))\n",
    "plt.hist(val_n30,div)\n",
    "plt.grid()\n",
    "plt.show()\n",
    "ancho = 0.2\n",
    "div = np.linspace(inicio,fin,round(1+(fin-inicio)/ancho))\n",
    "plt.hist(val_n30,div)\n",
    "plt.grid()\n",
    "plt.show()\n",
    "ancho = 0.1\n",
    "div = np.linspace(inicio,fin,round(1+(fin-inicio)/ancho))\n",
    "plt.hist(val_n30,div)\n",
    "plt.grid()\n",
    "plt.show()"
   ]
  },
  {
   "cell_type": "code",
   "execution_count": 27,
   "metadata": {},
   "outputs": [
    {
     "name": "stdout",
     "output_type": "stream",
     "text": [
      "Inicio= 0\n",
      "Fin= 6\n"
     ]
    },
    {
     "data": {
      "image/png": "[encoded data removed]",
      "text/plain": [
       "<Figure size 432x288 with 1 Axes>"
      ]
     },
     "metadata": {
      "needs_background": "light"
     },
     "output_type": "display_data"
    },
    {
     "data": {
      "image/png": "[encoded data removed]",
      "text/plain": [
       "<Figure size 432x288 with 1 Axes>"
      ]
     },
     "metadata": {
      "needs_background": "light"
     },
     "output_type": "display_data"
    },
    {
     "data": {
      "image/png": "[encoded data removed]",
      "text/plain": [
       "<Figure size 432x288 with 1 Axes>"
      ]
     },
     "metadata": {
      "needs_background": "light"
     },
     "output_type": "display_data"
    }
   ],
   "source": [
    "inicio = int(min(val_n200))\n",
    "fin = int(max(val_n200))\n",
    "ancho = 0.4\n",
    "print(\"Inicio=\", inicio)\n",
    "print(\"Fin=\", fin)\n",
    "div = np.linspace(inicio,fin,round(1+(fin-inicio)/ancho))\n",
    "plt.hist(val_n200,div)\n",
    "plt.grid()\n",
    "plt.show()\n",
    "ancho = 0.2\n",
    "div = np.linspace(inicio,fin,round(1+(fin-inicio)/ancho))\n",
    "plt.hist(val_n200,div)\n",
    "plt.grid()\n",
    "plt.show()\n",
    "ancho = 0.1\n",
    "div = np.linspace(inicio,fin,round(1+(fin-inicio)/ancho))\n",
    "plt.hist(val_n200,div)\n",
    "plt.grid()\n",
    "plt.show()"
   ]
  },
  {
   "cell_type": "markdown",
   "metadata": {},
   "source": [
    "# Ejercicio 3"
   ]
  },
  {
   "cell_type": "code",
   "execution_count": null,
   "metadata": {},
   "outputs": [],
   "source": [
    "# Generar una muestra de números Bin(10, 0.3) de tamaño de muestra N = 50. Construir la función de distribución empírica de dicha\n",
    "# muestra."
   ]
  },
  {
   "cell_type": "code",
   "execution_count": 34,
   "metadata": {},
   "outputs": [
    {
     "name": "stdout",
     "output_type": "stream",
     "text": [
      "[3. 4. 2. 3. 3. 2. 5. 3. 3. 4. 4. 5. 3. 3. 3. 5. 4. 3. 1. 3. 1. 4. 2. 6.\n",
      " 2. 2. 2. 4. 5. 4. 3. 4. 1. 4. 4. 4. 2. 2. 4. 2. 4. 3. 0. 3. 1. 5. 2. 3.\n",
      " 1. 2.]\n"
     ]
    },
    {
     "data": {
      "text/plain": [
       "Counter({3.0: 14, 4.0: 13, 2.0: 11, 5.0: 5, 1.0: 5, 6.0: 1, 0.0: 1})"
      ]
     },
     "execution_count": 34,
     "metadata": {},
     "output_type": "execute_result"
    }
   ],
   "source": [
    "val_e3 = fn_binomial_array(50,10,0.3)\n",
    "print(val_e3)\n",
    "collections.Counter(val_e3)"
   ]
  },
  {
   "cell_type": "code",
   "execution_count": 35,
   "metadata": {},
   "outputs": [
    {
     "name": "stdout",
     "output_type": "stream",
     "text": [
      "P(x<0): 0.020\n",
      "P(x<1): 0.120\n",
      "P(x<2): 0.340\n",
      "P(x<3): 0.620\n",
      "P(x<4): 0.880\n",
      "P(x<5): 0.980\n",
      "P(x<6): 1.000\n"
     ]
    },
    {
     "data": {
      "image/png": "[encoded data removed]",
      "text/plain": [
       "<Figure size 432x288 with 1 Axes>"
      ]
     },
     "metadata": {
      "needs_background": "light"
     },
     "output_type": "display_data"
    }
   ],
   "source": [
    "ecdf = ECDF(val_e3)\n",
    "print('P(x<0): %.3f' % ecdf(0))\n",
    "print('P(x<1): %.3f' % ecdf(1))\n",
    "print('P(x<2): %.3f' % ecdf(2))\n",
    "print('P(x<3): %.3f' % ecdf(3))\n",
    "print('P(x<4): %.3f' % ecdf(4))\n",
    "print('P(x<5): %.3f' % ecdf(5))\n",
    "print('P(x<6): %.3f' % ecdf(6))\n",
    "# plot the cdf\n",
    "plt.plot(ecdf.x, ecdf.y)\n",
    "plt.show()"
   ]
  },
  {
   "cell_type": "markdown",
   "metadata": {},
   "source": [
    "# Ejercicio 4"
   ]
  },
  {
   "cell_type": "code",
   "execution_count": null,
   "metadata": {},
   "outputs": [],
   "source": [
    "A partir de la función de distribución empírica del punto anterior, generar una nueva muestra de números aleatorios utili-\n",
    "zando el método de simulación de la primera parte. \n",
    "Computar la media y varianza muestral y graficar el histograma."
   ]
  },
  {
   "cell_type": "code",
   "execution_count": 36,
   "metadata": {},
   "outputs": [
    {
     "name": "stdout",
     "output_type": "stream",
     "text": [
      "Inicio= 0\n",
      "Fin= 6\n"
     ]
    },
    {
     "data": {
      "image/png": "[encoded data removed]",
      "text/plain": [
       "<Figure size 432x288 with 1 Axes>"
      ]
     },
     "metadata": {
      "needs_background": "light"
     },
     "output_type": "display_data"
    }
   ],
   "source": [
    "inicio = int(min(val_e3))\n",
    "fin = int(max(val_e3))\n",
    "ancho = 0.4\n",
    "print(\"Inicio=\", inicio)\n",
    "print(\"Fin=\", fin)\n",
    "div = np.linspace(inicio,fin,round(1+(fin-inicio)/ancho))\n",
    "plt.hist(val_e3,div)\n",
    "plt.grid()\n",
    "plt.show()"
   ]
  },
  {
   "cell_type": "code",
   "execution_count": null,
   "metadata": {},
   "outputs": [],
   "source": [
    "# Referencia Funcion de Distribucion Empirica\n",
    "# https://machinelearningmastery.com/empirical-distribution-function-in-python/#:~:text=An%20empirical%20distribution%20function%20can,specific%20observations%20from%20the%20domain."
   ]
  },
  {
   "cell_type": "code",
   "execution_count": 54,
   "metadata": {},
   "outputs": [
    {
     "name": "stdout",
     "output_type": "stream",
     "text": [
      "3.0\n"
     ]
    }
   ],
   "source": [
    "# esperanza = n*p (binomial)\n",
    "esperanza = 10 * 0.3\n",
    "print(esperanza)"
   ]
  },
  {
   "cell_type": "code",
   "execution_count": 56,
   "metadata": {},
   "outputs": [
    {
     "name": "stdout",
     "output_type": "stream",
     "text": [
      "2.0999999999999996\n"
     ]
    }
   ],
   "source": [
    "# varianza = n*p*(1-p)\n",
    "varianza = 10*0.3*(1-0.3)\n",
    "print(varianza)"
   ]
  },
  {
   "cell_type": "markdown",
   "metadata": {},
   "source": [
    "# Ejercicio 5"
   ]
  },
  {
   "cell_type": "code",
   "execution_count": null,
   "metadata": {},
   "outputs": [],
   "source": [
    "Repetir el experimento de los dos puntos anteriores con dos muestras aleatorias más generadas con los mismos parámetros.\n",
    "¿Qué conclusión saca?"
   ]
  },
  {
   "cell_type": "markdown",
   "metadata": {},
   "source": [
    "# Parte 3: Convergencia"
   ]
  },
  {
   "cell_type": "markdown",
   "metadata": {},
   "source": [
    "# Ejercicio 1"
   ]
  },
  {
   "cell_type": "code",
   "execution_count": null,
   "metadata": {},
   "outputs": [],
   "source": [
    "# Generar cuatro muestras de números aleatorios de tamaño 100, todas con distribución binomial con p = 0,40 y n = 10, n = 20,\n",
    "# n = 50 y n = 100 respectivamente. Graficar sus histogramas. ¿Qué observa?"
   ]
  },
  {
   "cell_type": "code",
   "execution_count": 38,
   "metadata": {},
   "outputs": [
    {
     "name": "stdout",
     "output_type": "stream",
     "text": [
      "[1. 4. 6. 2. 3. 4. 4. 6. 5. 4. 2. 3. 4. 3. 3. 4. 3. 4. 4. 2. 4. 5. 1. 3.\n",
      " 4. 3. 3. 6. 4. 2. 3. 6. 6. 5. 5. 3. 4. 6. 4. 3. 1. 5. 6. 5. 3. 6. 1. 5.\n",
      " 2. 5. 6. 5. 4. 6. 2. 3. 5. 3. 2. 2. 5. 4. 4. 4. 4. 4. 4. 3. 4. 3. 6. 6.\n",
      " 3. 6. 3. 4. 4. 4. 4. 7. 5. 4. 4. 2. 2. 2. 4. 4. 4. 3. 6. 3. 6. 7. 5. 6.\n",
      " 4. 7. 5. 5.]\n"
     ]
    },
    {
     "data": {
      "text/plain": [
       "Counter({1.0: 4, 4.0: 31, 6.0: 16, 2.0: 11, 3.0: 20, 5.0: 15, 7.0: 3})"
      ]
     },
     "execution_count": 38,
     "metadata": {},
     "output_type": "execute_result"
    }
   ],
   "source": [
    "val_e1_p3_10 = fn_binomial_array(100,10,0.4)\n",
    "print(val_e1_p3_10)\n",
    "collections.Counter(val_e1_p3_10)"
   ]
  },
  {
   "cell_type": "code",
   "execution_count": 39,
   "metadata": {},
   "outputs": [
    {
     "name": "stdout",
     "output_type": "stream",
     "text": [
      "[ 9. 11.  7.  8.  7.  8.  6.  8.  7.  5.  6.  8.  7. 10. 10.  9.  5.  8.\n",
      "  9.  6. 10.  8.  7.  9.  7.  8.  5.  6.  7.  8.  5.  6. 10.  7.  8.  8.\n",
      "  9.  8. 13.  9.  7.  4.  6.  6.  6.  8.  9. 11.  9.  7.  8.  7.  7.  7.\n",
      "  6.  7.  8.  7. 10. 11. 10. 10. 11.  8.  8.  9.  6. 10. 13. 10.  9. 10.\n",
      "  7.  9.  9.  6. 10.  7. 10.  9. 12.  6.  7. 10.  7. 11.  9.  8.  5. 10.\n",
      "  8.  4.  6. 11.  6.  5. 12.  7.  6.  6.]\n"
     ]
    },
    {
     "data": {
      "text/plain": [
       "Counter({9.0: 14,\n",
       "         11.0: 6,\n",
       "         7.0: 20,\n",
       "         8.0: 18,\n",
       "         6.0: 16,\n",
       "         5.0: 6,\n",
       "         10.0: 14,\n",
       "         13.0: 2,\n",
       "         4.0: 2,\n",
       "         12.0: 2})"
      ]
     },
     "execution_count": 39,
     "metadata": {},
     "output_type": "execute_result"
    }
   ],
   "source": [
    "val_e1_p3_20 = fn_binomial_array(100,20,0.4)\n",
    "print(val_e1_p3_20)\n",
    "collections.Counter(val_e1_p3_20)"
   ]
  },
  {
   "cell_type": "code",
   "execution_count": 40,
   "metadata": {},
   "outputs": [
    {
     "name": "stdout",
     "output_type": "stream",
     "text": [
      "[18. 15. 20. 19. 20. 18. 21. 20. 17. 24. 21. 17. 23. 22. 26. 21. 18. 20.\n",
      " 15. 21. 15. 22. 18. 20. 24. 24. 18. 18. 22. 21. 19. 19. 22. 21. 14. 24.\n",
      " 21. 18. 19. 22. 12. 15. 15. 21. 18. 19. 13. 17. 28. 16. 23. 18. 21. 12.\n",
      " 18. 16. 25. 18. 26. 19. 21. 21. 15. 26. 24. 22. 24. 23. 15. 20. 18. 16.\n",
      " 23. 22. 21. 21. 23. 19. 21. 15. 20. 17. 15. 21. 22. 14. 21. 19. 23. 19.\n",
      " 17. 19. 25. 23. 22. 18. 20. 19. 17. 23.]\n"
     ]
    },
    {
     "data": {
      "text/plain": [
       "Counter({18.0: 13,\n",
       "         15.0: 9,\n",
       "         20.0: 8,\n",
       "         19.0: 11,\n",
       "         21.0: 16,\n",
       "         17.0: 6,\n",
       "         24.0: 6,\n",
       "         23.0: 8,\n",
       "         22.0: 9,\n",
       "         26.0: 3,\n",
       "         14.0: 2,\n",
       "         12.0: 2,\n",
       "         13.0: 1,\n",
       "         28.0: 1,\n",
       "         16.0: 3,\n",
       "         25.0: 2})"
      ]
     },
     "execution_count": 40,
     "metadata": {},
     "output_type": "execute_result"
    }
   ],
   "source": [
    "val_e1_p3_50 = fn_binomial_array(100,50,0.4)\n",
    "print(val_e1_p3_50)\n",
    "collections.Counter(val_e1_p3_50)"
   ]
  },
  {
   "cell_type": "code",
   "execution_count": 41,
   "metadata": {},
   "outputs": [
    {
     "name": "stdout",
     "output_type": "stream",
     "text": [
      "[30. 39. 36. 50. 40. 52. 37. 40. 46. 41. 43. 38. 46. 44. 42. 50. 33. 35.\n",
      " 39. 32. 44. 44. 33. 41. 42. 45. 37. 40. 39. 46. 45. 38. 42. 35. 41. 31.\n",
      " 41. 40. 43. 43. 44. 46. 45. 38. 36. 45. 38. 40. 44. 40. 47. 36. 38. 40.\n",
      " 38. 35. 39. 35. 44. 44. 38. 44. 40. 30. 43. 47. 39. 34. 37. 44. 40. 45.\n",
      " 47. 43. 50. 41. 40. 44. 42. 43. 39. 35. 37. 35. 35. 34. 40. 39. 33. 44.\n",
      " 47. 49. 53. 32. 49. 40. 35. 42. 43. 37.]\n"
     ]
    },
    {
     "data": {
      "text/plain": [
       "Counter({30.0: 2,\n",
       "         39.0: 7,\n",
       "         36.0: 3,\n",
       "         50.0: 3,\n",
       "         40.0: 12,\n",
       "         52.0: 1,\n",
       "         37.0: 5,\n",
       "         46.0: 4,\n",
       "         41.0: 5,\n",
       "         43.0: 7,\n",
       "         38.0: 7,\n",
       "         44.0: 11,\n",
       "         42.0: 5,\n",
       "         33.0: 3,\n",
       "         35.0: 8,\n",
       "         32.0: 2,\n",
       "         45.0: 5,\n",
       "         31.0: 1,\n",
       "         47.0: 4,\n",
       "         34.0: 2,\n",
       "         49.0: 2,\n",
       "         53.0: 1})"
      ]
     },
     "execution_count": 41,
     "metadata": {},
     "output_type": "execute_result"
    }
   ],
   "source": [
    "val_e1_p3_100 = fn_binomial_array(100,100,0.4)\n",
    "print(val_e1_p3_100)\n",
    "collections.Counter(val_e1_p3_100)"
   ]
  },
  {
   "cell_type": "code",
   "execution_count": 48,
   "metadata": {},
   "outputs": [
    {
     "name": "stdout",
     "output_type": "stream",
     "text": [
      "Inicio= 1\n",
      "Fin= 7\n",
      "Valor pico de frecuencia= 4.0\n"
     ]
    },
    {
     "data": {
      "image/png": "[encoded data removed]",
      "text/plain": [
       "<Figure size 432x288 with 1 Axes>"
      ]
     },
     "metadata": {
      "needs_background": "light"
     },
     "output_type": "display_data"
    }
   ],
   "source": [
    "inicio = int(min(val_e1_p3_10))\n",
    "fin = int(max(val_e1_p3_10))\n",
    "print(\"Inicio=\", inicio)\n",
    "print(\"Fin=\", fin)\n",
    "print(\"Valor pico de frecuencia=\", 10*0.4)\n",
    "ancho = 0.4\n",
    "div = np.linspace(inicio,fin,round(1+(fin-inicio)/ancho))\n",
    "plt.hist(val_e1_p3_10,div)\n",
    "plt.grid()\n",
    "plt.show()"
   ]
  },
  {
   "cell_type": "code",
   "execution_count": 49,
   "metadata": {},
   "outputs": [
    {
     "name": "stdout",
     "output_type": "stream",
     "text": [
      "Inicio= 4\n",
      "Fin= 13\n",
      "Valor pico de frecuencia= 8.0\n"
     ]
    },
    {
     "data": {
      "image/png": "[encoded data removed]",
      "text/plain": [
       "<Figure size 432x288 with 1 Axes>"
      ]
     },
     "metadata": {
      "needs_background": "light"
     },
     "output_type": "display_data"
    }
   ],
   "source": [
    "inicio = int(min(val_e1_p3_20))\n",
    "fin = int(max(val_e1_p3_20))\n",
    "print(\"Inicio=\", inicio)\n",
    "print(\"Fin=\", fin)\n",
    "print(\"Valor pico de frecuencia=\", 20*0.4)\n",
    "ancho = 0.4\n",
    "div = np.linspace(inicio,fin,round(1+(fin-inicio)/ancho))\n",
    "plt.hist(val_e1_p3_20,div)\n",
    "plt.grid()\n",
    "plt.show()"
   ]
  },
  {
   "cell_type": "code",
   "execution_count": 50,
   "metadata": {},
   "outputs": [
    {
     "name": "stdout",
     "output_type": "stream",
     "text": [
      "Inicio= 12\n",
      "Fin= 28\n",
      "Valor pico de frecuencia= 20.0\n"
     ]
    },
    {
     "data": {
      "image/png": "[encoded data removed]",
      "text/plain": [
       "<Figure size 432x288 with 1 Axes>"
      ]
     },
     "metadata": {
      "needs_background": "light"
     },
     "output_type": "display_data"
    }
   ],
   "source": [
    "inicio = int(min(val_e1_p3_50))\n",
    "fin = int(max(val_e1_p3_50))\n",
    "print(\"Inicio=\", inicio)\n",
    "print(\"Fin=\", fin)\n",
    "print(\"Valor pico de frecuencia=\", 50*0.4)\n",
    "ancho = 0.4\n",
    "div = np.linspace(inicio,fin,round(1+(fin-inicio)/ancho))\n",
    "plt.hist(val_e1_p3_50,div)\n",
    "plt.grid()\n",
    "plt.show()"
   ]
  },
  {
   "cell_type": "code",
   "execution_count": 51,
   "metadata": {},
   "outputs": [
    {
     "name": "stdout",
     "output_type": "stream",
     "text": [
      "Inicio= 30\n",
      "Fin= 53\n",
      "Valor pico de frecuencia= 40.0\n"
     ]
    },
    {
     "data": {
      "image/png": "[encoded data removed]",
      "text/plain": [
       "<Figure size 432x288 with 1 Axes>"
      ]
     },
     "metadata": {
      "needs_background": "light"
     },
     "output_type": "display_data"
    }
   ],
   "source": [
    "inicio = int(min(val_e1_p3_100))\n",
    "fin = int(max(val_e1_p3_100))\n",
    "print(\"Inicio=\", inicio)\n",
    "print(\"Fin=\", fin)\n",
    "print(\"Valor pico de frecuencia=\", 100*0.4)\n",
    "ancho = 0.4\n",
    "div = np.linspace(inicio,fin,round(1+(fin-inicio)/ancho))\n",
    "plt.hist(val_e1_p3_100,div)\n",
    "plt.grid()\n",
    "plt.show()"
   ]
  },
  {
   "cell_type": "code",
   "execution_count": null,
   "metadata": {},
   "outputs": [],
   "source": [
    "# CONCLUSION: Teniendo en cuenta el p=0.4, puedo estimar que el pico de frencuencia en cada uno, va a estar determinado por el \n",
    "# valor del rango que sea valor_maximo*0.4 (aproximadamente)"
   ]
  },
  {
   "cell_type": "markdown",
   "metadata": {},
   "source": [
    "# Ejercicio 2"
   ]
  },
  {
   "cell_type": "code",
   "execution_count": 52,
   "metadata": {},
   "outputs": [],
   "source": [
    "# Elija la muestra de tamaño 200 y calcule la media y desviación estándar muestral. Luego, normalice cada dato de la muestra\n",
    "# y grafique el histograma de la muestra normalizada. Justifique lo que observa."
   ]
  },
  {
   "cell_type": "code",
   "execution_count": 53,
   "metadata": {},
   "outputs": [
    {
     "name": "stdout",
     "output_type": "stream",
     "text": [
      "[2. 5. 4. 4. 6. 5. 6. 3. 4. 4. 2. 4. 6. 0. 3. 3. 6. 3. 4. 2. 3. 2. 3. 6.\n",
      " 5. 4. 4. 5. 3. 3. 4. 5. 4. 2. 6. 4. 6. 5. 3. 3. 2. 4. 5. 6. 4. 4. 1. 3.\n",
      " 5. 4. 3. 3. 6. 7. 3. 3. 3. 6. 4. 5. 5. 3. 4. 5. 5. 4. 3. 5. 2. 5. 5. 3.\n",
      " 4. 7. 6. 6. 5. 4. 5. 4. 3. 4. 2. 1. 4. 6. 7. 2. 5. 3. 2. 2. 4. 5. 4. 4.\n",
      " 4. 2. 3. 5. 4. 5. 2. 4. 5. 5. 5. 7. 2. 3. 3. 4. 4. 3. 4. 5. 6. 3. 4. 6.\n",
      " 5. 6. 5. 6. 3. 7. 3. 7. 4. 5. 3. 6. 4. 3. 3. 0. 3. 2. 5. 2. 6. 5. 4. 1.\n",
      " 3. 4. 6. 7. 5. 3. 6. 5. 3. 5. 2. 5. 2. 4. 4. 4. 4. 3. 6. 2. 5. 5. 4. 3.\n",
      " 4. 4. 4. 4. 5. 3. 5. 5. 5. 4. 7. 3. 5. 4. 5. 4. 3. 6. 8. 4. 3. 3. 3. 5.\n",
      " 8. 4. 3. 6. 3. 8. 4. 4.]\n"
     ]
    },
    {
     "data": {
      "text/plain": [
       "Counter({2.0: 19,\n",
       "         5.0: 43,\n",
       "         4.0: 53,\n",
       "         6.0: 24,\n",
       "         3.0: 45,\n",
       "         0.0: 2,\n",
       "         1.0: 3,\n",
       "         7.0: 8,\n",
       "         8.0: 3})"
      ]
     },
     "execution_count": 53,
     "metadata": {},
     "output_type": "execute_result"
    }
   ],
   "source": [
    "val_e2_p3_200 = fn_binomial_array(200,10,0.4)\n",
    "print(val_e2_p3_200)\n",
    "collections.Counter(val_e2_p3_200)"
   ]
  },
  {
   "cell_type": "code",
   "execution_count": 57,
   "metadata": {},
   "outputs": [
    {
     "name": "stdout",
     "output_type": "stream",
     "text": [
      "4.0\n"
     ]
    }
   ],
   "source": [
    "# esperanza = n*p (binomial)\n",
    "esperanza = 10 * 0.4\n",
    "print(esperanza)"
   ]
  },
  {
   "cell_type": "code",
   "execution_count": 58,
   "metadata": {},
   "outputs": [
    {
     "name": "stdout",
     "output_type": "stream",
     "text": [
      "2.4\n"
     ]
    }
   ],
   "source": [
    "# varianza = n*p*(1-p)\n",
    "varianza = 10*0.4*(1-0.4)\n",
    "print(varianza)"
   ]
  },
  {
   "cell_type": "code",
   "execution_count": 59,
   "metadata": {},
   "outputs": [
    {
     "name": "stdout",
     "output_type": "stream",
     "text": [
      "Inicio= 0\n",
      "Fin= 8\n",
      "Valor pico de frecuencia= 4.0\n"
     ]
    },
    {
     "data": {
      "image/png": "[encoded data removed]",
      "text/plain": [
       "<Figure size 432x288 with 1 Axes>"
      ]
     },
     "metadata": {
      "needs_background": "light"
     },
     "output_type": "display_data"
    }
   ],
   "source": [
    "inicio = int(min(val_e2_p3_200))\n",
    "fin = int(max(val_e2_p3_200))\n",
    "print(\"Inicio=\", inicio)\n",
    "print(\"Fin=\", fin)\n",
    "print(\"Valor pico de frecuencia=\", esperanza)\n",
    "ancho = 0.4\n",
    "div = np.linspace(inicio,fin,round(1+(fin-inicio)/ancho))\n",
    "plt.hist(val_e2_p3_200,div)\n",
    "plt.grid()\n",
    "plt.show()"
   ]
  },
  {
   "cell_type": "code",
   "execution_count": 77,
   "metadata": {},
   "outputs": [
    {
     "name": "stdout",
     "output_type": "stream",
     "text": [
      "0.5\n",
      "[0.25  0.625 0.5   0.5   0.75  0.625 0.75  0.375 0.5   0.5   0.25  0.5\n",
      " 0.75  0.    0.375 0.375 0.75  0.375 0.5   0.25  0.375 0.25  0.375 0.75\n",
      " 0.625 0.5   0.5   0.625 0.375 0.375 0.5   0.625 0.5   0.25  0.75  0.5\n",
      " 0.75  0.625 0.375 0.375 0.25  0.5   0.625 0.75  0.5   0.5   0.125 0.375\n",
      " 0.625 0.5   0.375 0.375 0.75  0.875 0.375 0.375 0.375 0.75  0.5   0.625\n",
      " 0.625 0.375 0.5   0.625 0.625 0.5   0.375 0.625 0.25  0.625 0.625 0.375\n",
      " 0.5   0.875 0.75  0.75  0.625 0.5   0.625 0.5   0.375 0.5   0.25  0.125\n",
      " 0.5   0.75  0.875 0.25  0.625 0.375 0.25  0.25  0.5   0.625 0.5   0.5\n",
      " 0.5   0.25  0.375 0.625 0.5   0.625 0.25  0.5   0.625 0.625 0.625 0.875\n",
      " 0.25  0.375 0.375 0.5   0.5   0.375 0.5   0.625 0.75  0.375 0.5   0.75\n",
      " 0.625 0.75  0.625 0.75  0.375 0.875 0.375 0.875 0.5   0.625 0.375 0.75\n",
      " 0.5   0.375 0.375 0.    0.375 0.25  0.625 0.25  0.75  0.625 0.5   0.125\n",
      " 0.375 0.5   0.75  0.875 0.625 0.375 0.75  0.625 0.375 0.625 0.25  0.625\n",
      " 0.25  0.5   0.5   0.5   0.5   0.375 0.75  0.25  0.625 0.625 0.5   0.375\n",
      " 0.5   0.5   0.5   0.5   0.625 0.375 0.625 0.625 0.625 0.5   0.875 0.375\n",
      " 0.625 0.5   0.625 0.5   0.375 0.75  1.    0.5   0.375 0.375 0.375 0.625\n",
      " 1.    0.5   0.375 0.75  0.375 1.    0.5   0.5  ]\n"
     ]
    }
   ],
   "source": [
    "# Para normalizar el valor, tomo la siguiente normalización = ( x – min(x) ) / ( max(x) – min(x) )\n",
    "\n",
    "minimo = (min(val_e2_p3_200))\n",
    "maximo = (max(val_e2_p3_200))\n",
    "\n",
    "calculo_b = maximo - minimo\n",
    "\n",
    "normal = np.zeros((200))\n",
    "\n",
    "for i in range(0,200):\n",
    "    valor = val_e2_p3_200[i-1]\n",
    "    calculo_a = valor - minimo\n",
    "    calculo = calculo_a / calculo_b\n",
    "    normal[i-1] = calculo\n",
    "\n",
    "print(normal)"
   ]
  },
  {
   "cell_type": "code",
   "execution_count": 78,
   "metadata": {},
   "outputs": [],
   "source": [
    "df = pd.DataFrame({\"valor\":val_e2_p3_200,\"normalizado\":normal})"
   ]
  },
  {
   "cell_type": "code",
   "execution_count": 79,
   "metadata": {},
   "outputs": [
    {
     "name": "stdout",
     "output_type": "stream",
     "text": [
      "     valor  normalizado\n",
      "0      2.0        0.250\n",
      "1      5.0        0.625\n",
      "2      4.0        0.500\n",
      "3      4.0        0.500\n",
      "4      6.0        0.750\n",
      "..     ...          ...\n",
      "195    6.0        0.750\n",
      "196    3.0        0.375\n",
      "197    8.0        1.000\n",
      "198    4.0        0.500\n",
      "199    4.0        0.500\n",
      "\n",
      "[200 rows x 2 columns]\n"
     ]
    }
   ],
   "source": [
    "print(df)"
   ]
  },
  {
   "cell_type": "code",
   "execution_count": 86,
   "metadata": {},
   "outputs": [
    {
     "name": "stdout",
     "output_type": "stream",
     "text": [
      "Inicio= 0\n",
      "Fin= 1\n"
     ]
    },
    {
     "data": {
      "image/png": "[encoded data removed]",
      "text/plain": [
       "<Figure size 432x288 with 1 Axes>"
      ]
     },
     "metadata": {
      "needs_background": "light"
     },
     "output_type": "display_data"
    }
   ],
   "source": [
    "inicio = int(min(normal))\n",
    "fin = int(max(normal))\n",
    "print(\"Inicio=\", inicio)\n",
    "print(\"Fin=\", fin)\n",
    "\n",
    "ancho = 0.05\n",
    "div = np.linspace(inicio,fin,round(1+(fin-inicio)/ancho))\n",
    "plt.hist(normal,div)\n",
    "plt.grid()\n",
    "plt.show()"
   ]
  },
  {
   "cell_type": "code",
   "execution_count": 85,
   "metadata": {},
   "outputs": [],
   "source": [
    "# En el primer conjunto, la esperanza de la binomial, me da que en el valor 4 tendre el pico de frencuencia de ocurrencia\n",
    "# Cuando normalizo los valores a un intervalo {0,1}, el valor representado de 4 es 0,5 esto en el histograma\n",
    "# me muestra el valor con mayor frecuencia de ocurrencia."
   ]
  },
  {
   "cell_type": "markdown",
   "metadata": {},
   "source": [
    "# Ejercicio 3"
   ]
  },
  {
   "cell_type": "code",
   "execution_count": 87,
   "metadata": {},
   "outputs": [],
   "source": [
    "# Para cada una de las muestras anteriores, calcule la media muestral. Justifique lo que observa."
   ]
  },
  {
   "cell_type": "code",
   "execution_count": null,
   "metadata": {},
   "outputs": [],
   "source": []
  },
  {
   "cell_type": "markdown",
   "metadata": {},
   "source": [
    "# Parte 4"
   ]
  },
  {
   "cell_type": "markdown",
   "metadata": {},
   "source": [
    "# Ejercicio 1"
   ]
  },
  {
   "cell_type": "code",
   "execution_count": 88,
   "metadata": {},
   "outputs": [],
   "source": [
    "# Generar dos muestras N(100, 5), una de tamaño n = 10 y otra de tamaño n = 30. Obtener estimaciones puntuales de su media\n",
    "# y varianza."
   ]
  },
  {
   "cell_type": "code",
   "execution_count": 91,
   "metadata": {},
   "outputs": [
    {
     "name": "stdout",
     "output_type": "stream",
     "text": [
      "[109.51242497 100.60701802  99.85992465  96.78359883 105.13857495\n",
      "  93.44184738 104.03751907  96.8696699   97.43588219  99.74166938]\n"
     ]
    }
   ],
   "source": [
    "val_e1_p4_10 = fn_normal_array(10,100, 5)\n",
    "print(val_e1_p4_10)"
   ]
  },
  {
   "cell_type": "code",
   "execution_count": 92,
   "metadata": {},
   "outputs": [
    {
     "name": "stdout",
     "output_type": "stream",
     "text": [
      "[ 99.15632436  98.53231205  95.21964442 100.67244067 101.10858486\n",
      "  98.25748275  99.89964534 105.29050145  99.4393062  102.95544039\n",
      " 100.63654295 104.36354166  97.68837395  95.43086712  98.21949901\n",
      "  96.79595825 101.68189959 103.46881955 100.78438571 106.97088787\n",
      "  98.86341968  97.52206264 104.28652445 101.61296184  94.59103368\n",
      "  93.56491131 101.11615541  97.46024968  99.15143132 102.30833181]\n"
     ]
    }
   ],
   "source": [
    "val_e1_p4_30 = fn_normal_array(30,100, 5)\n",
    "print(val_e1_p4_30)"
   ]
  },
  {
   "cell_type": "code",
   "execution_count": 101,
   "metadata": {},
   "outputs": [],
   "source": [
    "suma_a = 0\n",
    "for i in range(0,10):\n",
    "    suma_a = suma_a + val_e1_p4_10[i-1]"
   ]
  },
  {
   "cell_type": "code",
   "execution_count": 102,
   "metadata": {},
   "outputs": [
    {
     "name": "stdout",
     "output_type": "stream",
     "text": [
      "100.34281293524539\n"
     ]
    }
   ],
   "source": [
    "print(suma_a/10)\n"
   ]
  },
  {
   "cell_type": "code",
   "execution_count": 103,
   "metadata": {},
   "outputs": [],
   "source": [
    "varianza_a = 0\n",
    "for i in range(0,10):\n",
    "    varianza_a = varianza_a + (val_e1_p4_10[i-1]-suma_a)**2"
   ]
  },
  {
   "cell_type": "code",
   "execution_count": 104,
   "metadata": {},
   "outputs": [
    {
     "name": "stdout",
     "output_type": "stream",
     "text": [
      "815583.3087913853\n"
     ]
    }
   ],
   "source": [
    "print(varianza_a/10)"
   ]
  },
  {
   "cell_type": "code",
   "execution_count": 106,
   "metadata": {},
   "outputs": [],
   "source": [
    "suma_b = 0\n",
    "for i in range(0,30):\n",
    "    suma_b = suma_b + val_e1_p4_30[i-1]"
   ]
  },
  {
   "cell_type": "code",
   "execution_count": 107,
   "metadata": {},
   "outputs": [
    {
     "name": "stdout",
     "output_type": "stream",
     "text": [
      "99.90165133181742\n"
     ]
    }
   ],
   "source": [
    "print(suma_b/30)"
   ]
  },
  {
   "cell_type": "code",
   "execution_count": 108,
   "metadata": {},
   "outputs": [],
   "source": [
    "varianza_b = 0\n",
    "for i in range(0,30):\n",
    "    varianza_b = varianza_b + (val_e1_p4_30[i-1]-suma_b)**2"
   ]
  },
  {
   "cell_type": "code",
   "execution_count": 109,
   "metadata": {},
   "outputs": [
    {
     "name": "stdout",
     "output_type": "stream",
     "text": [
      "8393475.994740667\n"
     ]
    }
   ],
   "source": [
    "print(varianza_b/30)"
   ]
  },
  {
   "cell_type": "code",
   "execution_count": null,
   "metadata": {},
   "outputs": [],
   "source": []
  }
 ],
 "metadata": {
  "kernelspec": {
   "display_name": "Python 3",
   "language": "python",
   "name": "python3"
  },
  "language_info": {
   "codemirror_mode": {
    "name": "ipython",
    "version": 3
   },
   "file_extension": ".py",
   "mimetype": "text/x-python",
   "name": "python",
   "nbconvert_exporter": "python",
   "pygments_lexer": "ipython3",
   "version": "3.8.3"
  }
 },
 "nbformat": 4,
 "nbformat_minor": 4
}
